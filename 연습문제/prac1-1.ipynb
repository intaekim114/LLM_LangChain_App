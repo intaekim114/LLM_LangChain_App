{
 "cells": [
  {
   "cell_type": "code",
   "execution_count": 1,
   "id": "603fe700",
   "metadata": {},
   "outputs": [
    {
     "data": {
      "text/plain": [
       "True"
      ]
     },
     "execution_count": 1,
     "metadata": {},
     "output_type": "execute_result"
    }
   ],
   "source": [
    "import os\n",
    "from dotenv import load_dotenv\n",
    "from langchain_core.prompts import PromptTemplate\n",
    "from langchain_openai import ChatOpenAI \n",
    "from langchain_core.output_parsers import StrOutputParser\n",
    "\n",
    "\n",
    "load_dotenv()"
   ]
  },
  {
   "cell_type": "code",
   "execution_count": 2,
   "id": "f1ded49d",
   "metadata": {},
   "outputs": [],
   "source": [
    "prompt = PromptTemplate.from_template(\n",
    "    \"\"\"\n",
    "    당신은 요리사 입니다.\n",
    "    사용자가 입력한 재료로 만들 수 있는 요리를 추천하고,\n",
    "    그 요리의 레시피를 간단하게 알려주세요.\n",
    "\n",
    "    재료: {ingredients}\n",
    "    \"\"\"\n",
    ")"
   ]
  },
  {
   "cell_type": "code",
   "execution_count": 3,
   "id": "8914b81b",
   "metadata": {},
   "outputs": [],
   "source": [
    "llm = ChatOpenAI(\n",
    "    # api_key=OPENAI_API_KEY,\n",
    "    base_url=\"https://api.groq.com/openai/v1\",  # Groq API 엔드포인트\n",
    "    model=\"meta-llama/llama-4-scout-17b-16e-instruct\",\n",
    "    temperature=0.7\n",
    ")"
   ]
  },
  {
   "cell_type": "code",
   "execution_count": 4,
   "id": "cea42510",
   "metadata": {},
   "outputs": [],
   "source": [
    "# chain 연결 (LCEL)\n",
    "output_parser = StrOutputParser()\n",
    "chain = prompt | llm | output_parser"
   ]
  },
  {
   "cell_type": "code",
   "execution_count": 5,
   "id": "f70adab8",
   "metadata": {},
   "outputs": [
    {
     "name": "stdout",
     "output_type": "stream",
     "text": [
      "### **김치볶음밥**\n",
      "\n",
      "**재료:** 계란, 밥, 김치, 참기름, 고추장, 간장, 설탕, 후추\n",
      "\n",
      "**레시피:**\n",
      "\n",
      "1.  김치를 잘게 썰고, 계란은 풀어서 준비합니다.\n",
      "2.  팬에 참기름을 두르고 썰어 놓은 김치를 볶습니다.\n",
      "3.  김치가 볶아지면 풀어놓은 계란을 넣고 잘 섞어줍니다.\n",
      "4.  밥을 넣고 고추장, 간장, 설탕, 후추로 간을 합니다.\n",
      "5.  모든 재료가 잘 섞이면 맛있는 김치볶음밥이 됩니다.\n"
     ]
    }
   ],
   "source": [
    "try:\n",
    "    ingredients = \"계란, 밥, 김치\"\n",
    "    result = chain.invoke({\"ingredients\":ingredients})\n",
    "    print(result)\n",
    "except Exception as e:\n",
    "    print(f\"오류 발생: {e}\")"
   ]
  }
 ],
 "metadata": {
  "kernelspec": {
   "display_name": "langchain-basic-kGdHTiMZ-py3.12",
   "language": "python",
   "name": "python3"
  },
  "language_info": {
   "codemirror_mode": {
    "name": "ipython",
    "version": 3
   },
   "file_extension": ".py",
   "mimetype": "text/x-python",
   "name": "python",
   "nbconvert_exporter": "python",
   "pygments_lexer": "ipython3",
   "version": "3.12.7"
  }
 },
 "nbformat": 4,
 "nbformat_minor": 5
}
