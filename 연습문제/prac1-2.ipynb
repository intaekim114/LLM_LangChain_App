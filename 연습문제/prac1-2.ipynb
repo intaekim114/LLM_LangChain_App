{
 "cells": [
  {
   "cell_type": "code",
   "execution_count": 44,
   "id": "a44f4418",
   "metadata": {},
   "outputs": [
    {
     "data": {
      "text/plain": [
       "True"
      ]
     },
     "execution_count": 44,
     "metadata": {},
     "output_type": "execute_result"
    }
   ],
   "source": [
    "import os\n",
    "from dotenv import load_dotenv\n",
    "from langchain_core.prompts import ChatPromptTemplate\n",
    "from langchain_openai import ChatOpenAI \n",
    "from langchain_core.output_parsers import StrOutputParser\n",
    "\n",
    "\n",
    "load_dotenv()"
   ]
  },
  {
   "cell_type": "code",
   "execution_count": 45,
   "id": "a8320ecc",
   "metadata": {},
   "outputs": [],
   "source": [
    "prompt1 = ChatPromptTemplate.from_messages([\n",
    "    (\"system\", \"당신은 영화 전문가 입니다. 사용자가 입력한 장르에 맞는 영화 1편을 추천해주세요.\" ),\n",
    "    (\"user\", \"{genre} 장르의 영화 1편을 추천해 주세요.\")\n",
    "])"
   ]
  },
  {
   "cell_type": "code",
   "execution_count": 46,
   "id": "876ed7ea",
   "metadata": {},
   "outputs": [],
   "source": [
    "prompt2 = ChatPromptTemplate.from_messages([\n",
    "    (\"system\", \"당신은 영화 전문가 입니다. 영화의 정보를 요약해서 알려주세요.\"),\n",
    "    (\"user\", \"{movie} 영화의 정보(감독, 줄거리, 등장인물)을 요약해서 알려주세요.\" )\n",
    "])"
   ]
  },
  {
   "cell_type": "code",
   "execution_count": 47,
   "id": "26e3f9b5",
   "metadata": {},
   "outputs": [],
   "source": [
    "llm = ChatOpenAI(\n",
    "    # api_key=OPENAI_API_KEY,\n",
    "    base_url=\"https://api.groq.com/openai/v1\",  # Groq API 엔드포인트\n",
    "    model=\"meta-llama/llama-4-scout-17b-16e-instruct\",\n",
    "    temperature=0.7\n",
    ")"
   ]
  },
  {
   "cell_type": "code",
   "execution_count": 48,
   "id": "7d16b872",
   "metadata": {},
   "outputs": [],
   "source": [
    "chain1 = prompt1 | llm | StrOutputParser()\n",
    "# movie = chain1.invoke({\"genre\":\"액션\"})"
   ]
  },
  {
   "cell_type": "code",
   "execution_count": 49,
   "id": "d74a2fac",
   "metadata": {},
   "outputs": [],
   "source": [
    "chain2 = (\n",
    "    {\"movie\": chain1}\n",
    "    | prompt2\n",
    "    | llm\n",
    "    | StrOutputParser()\n",
    ")"
   ]
  },
  {
   "cell_type": "code",
   "execution_count": 50,
   "id": "bae2d4be",
   "metadata": {},
   "outputs": [
    {
     "name": "stdout",
     "output_type": "stream",
     "text": [
      "1단계 결과: '존 윅'은 키아누 리브스가 주연을 맡은 액션 영화입니다. 전직 킬러 존 윅이 우연히 범죄 조직 보스의 차를 훔치면서 벌어지는 사건을 다루고 있습니다. 영화는 긴장감 넘치는 액션과 화려한 무술로 가득 차 있으며, 키아누 리브스의 연기와 카리스마가 돋보입니다.\n",
      "2단계 결과: '존윅'은 2014년에 개봉한 액션 영화입니다.\n",
      "\n",
      "**감독:** 채드 스태헬스키\n",
      "\n",
      "**줄거리:** 은퇴한 킬러 존윅은 우연히 옛 동료의 개를 죽게 되면서, 옛 동료의 아들에게 복수를 당하게 됩니다. 이 사건을 계기로 존윅은 다시 킬러의 세계로 돌아가게 되며, 이에 따른 사건들이 벌어지게 됩니다.\n",
      "\n",
      "**등장인물:** \n",
      "\n",
      "*   키아누 리브스 (John Wick 역)\n",
      "*   마이클 비스프 (Iosef Tarasov 역)\n",
      "*   앨피 앨런 (Viggo Tarasov 역)\n",
      "*   윌리엄 새디에 (Charon 역)\n",
      "*   브리짓 리 (Sophia 역)\n",
      "\n",
      "'존윅'은 고옥도한 액션과 탄탄한 스토리, 그리고 키아누 리브스의 연기가 돋보이는 영화입니다. 액션 영화 팬이라면 꼭 한 번 시청해 보시길 추천드립니다.\n"
     ]
    }
   ],
   "source": [
    "try:\n",
    "    genre = \"액션\"\n",
    "\n",
    "    name = chain1.invoke({\"genre\":genre})\n",
    "    print(f\"1단계 결과: {name}\")\n",
    "    \n",
    "    result = chain2.invoke({\"genre\":genre})\n",
    "    print(f\"2단계 결과: {result}\")\n",
    "except Exception as e:\n",
    "    print(f\"오류 발생: {e}\")"
   ]
  }
 ],
 "metadata": {
  "kernelspec": {
   "display_name": "langchain-basic-kGdHTiMZ-py3.12",
   "language": "python",
   "name": "python3"
  },
  "language_info": {
   "codemirror_mode": {
    "name": "ipython",
    "version": 3
   },
   "file_extension": ".py",
   "mimetype": "text/x-python",
   "name": "python",
   "nbconvert_exporter": "python",
   "pygments_lexer": "ipython3",
   "version": "3.12.7"
  }
 },
 "nbformat": 4,
 "nbformat_minor": 5
}
