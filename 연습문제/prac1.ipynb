{
 "cells": [
  {
   "cell_type": "markdown",
   "id": "8ebce66d",
   "metadata": {},
   "source": [
    "### 문제 1-1"
   ]
  },
  {
   "cell_type": "code",
   "execution_count": 1,
   "id": "603fe700",
   "metadata": {},
   "outputs": [
    {
     "data": {
      "text/plain": [
       "True"
      ]
     },
     "execution_count": 1,
     "metadata": {},
     "output_type": "execute_result"
    }
   ],
   "source": [
    "import os\n",
    "from dotenv import load_dotenv\n",
    "from langchain_core.prompts import PromptTemplate\n",
    "from langchain_openai import ChatOpenAI \n",
    "from langchain_core.output_parsers import StrOutputParser\n",
    "\n",
    "\n",
    "load_dotenv()"
   ]
  },
  {
   "cell_type": "code",
   "execution_count": 2,
   "id": "f1ded49d",
   "metadata": {},
   "outputs": [],
   "source": [
    "prompt = PromptTemplate.from_template(\n",
    "    \"\"\"\n",
    "    당신은 요리사 입니다.\n",
    "    사용자가 입력한 재료로 만들 수 있는 요리를 추천하고,\n",
    "    그 요리의 레시피를 간단하게 알려주세요.\n",
    "\n",
    "    재료: {ingredients}\n",
    "    \"\"\"\n",
    ")"
   ]
  },
  {
   "cell_type": "code",
   "execution_count": 3,
   "id": "8914b81b",
   "metadata": {},
   "outputs": [],
   "source": [
    "llm = ChatOpenAI(\n",
    "    # api_key=OPENAI_API_KEY,\n",
    "    base_url=\"https://api.groq.com/openai/v1\",  # Groq API 엔드포인트\n",
    "    model=\"meta-llama/llama-4-scout-17b-16e-instruct\",\n",
    "    temperature=0.7\n",
    ")"
   ]
  },
  {
   "cell_type": "code",
   "execution_count": 4,
   "id": "cea42510",
   "metadata": {},
   "outputs": [],
   "source": [
    "# chain 연결 (LCEL)\n",
    "output_parser = StrOutputParser()\n",
    "chain = prompt | llm | output_parser"
   ]
  },
  {
   "cell_type": "code",
   "execution_count": 5,
   "id": "f70adab8",
   "metadata": {},
   "outputs": [
    {
     "name": "stdout",
     "output_type": "stream",
     "text": [
      "### **김치 밥**\n",
      "\n",
      "*   **요리 재료** \n",
      "\n",
      "    *   밥 1공기\n",
      "\n",
      "    *   김치 100g\n",
      "\n",
      "    *   고춧가루 1/2 티스푼\n",
      "\n",
      "    *   참기름 1/2 티스푼\n",
      "\n",
      "    *   소금 1/3 티스푼\n",
      "\n",
      "*   **요리 방법**\n",
      "\n",
      "    1.  김치를 잘게 썰어주세요.\n",
      "\n",
      "    2.  팬에 참기름을 두르고 썰어 놓은 김치를 넣어 볶아주세요.\n",
      "\n",
      "    3.  고춧가루와 소금을 넣어 간을 맞춰주세요.\n",
      "\n",
      "    4.  밥을 넣어 잘 볶아주세요.\n",
      "\n",
      "    5.  맛있는 김치밥이 완성되었습니다.\n",
      "\n",
      "### **계란 김치전**\n",
      "\n",
      "*   **요리 재료**\n",
      "\n",
      "    *   계란 2개\n",
      "\n",
      "    *   김치 100g\n",
      "\n",
      "    *   고춧가루 1/3 티스푼\n",
      "\n",
      "    *   소금 1/3 티스푼\n",
      "\n",
      "    *   식용유 1/2 티스푼\n",
      "\n",
      "*   **요리 방법**\n",
      "\n",
      "    1.  김치를 잘게 썰어주세요.\n",
      "\n",
      "    2.  계란을 깨트려 그릇에 담고, 썰어 놓은 김치를 넣어주세요.\n",
      "\n",
      "    3.  고춧가루와 소금을 넣어 간을 맞춰주세요.\n",
      "\n",
      "    4.  팬에 식용유를 두르고 김치와 계란 혼합물을 넣어주세요.\n",
      "\n",
      "    5.  한 면이 익으면 뒤집어 다른 면도 익혀주세요.\n",
      "\n",
      "    6.  맛있는 계란 김치전이 완성되었습니다.\n",
      "\n",
      "### **계란찜**\n",
      "\n",
      "*   **요리 재료**\n",
      "\n",
      "    *   계란 2개\n",
      "\n",
      "    *   김치 50g\n",
      "\n",
      "    *   소금 1/3 티스푼\n",
      "\n",
      "    *   참기름 1/3 티스푼\n",
      "\n",
      "*   **요리 방법**\n",
      "\n",
      "    1.  김치를 잘게 썰어주세요.\n",
      "\n",
      "    2.  계란을 깨트려 그릇에 담고, 썰어 놓은 김치를 넣어주세요.\n",
      "\n",
      "    3.  소금을 넣어 간을 맞춰주세요.\n",
      "\n",
      "    4.  물을 넣고 계란이 반숙이 될 때까지 찜해주세요.\n",
      "\n",
      "    5.  참기름을 뿌려 마무리해 주세요.\n",
      "\n",
      "    6.  맛있는 계란찜이 완성되었습니다.\n"
     ]
    }
   ],
   "source": [
    "try:\n",
    "    ingredients = \"계란, 밥, 김치\"\n",
    "    result = chain.invoke({\"ingredients\":ingredients})\n",
    "    print(result)\n",
    "except Exception as e:\n",
    "    print(f\"오류 발생: {e}\")"
   ]
  },
  {
   "cell_type": "markdown",
   "id": "5109a9f1",
   "metadata": {},
   "source": [
    "### 문제 1-2"
   ]
  },
  {
   "cell_type": "code",
   "execution_count": 6,
   "id": "43ca9371",
   "metadata": {},
   "outputs": [],
   "source": [
    "from langchain_core.prompts import ChatPromptTemplate\n",
    "from langchain_openai import ChatOpenAI \n",
    "from langchain_core.output_parsers import StrOutputParser"
   ]
  },
  {
   "cell_type": "code",
   "execution_count": 7,
   "id": "df8007ca",
   "metadata": {},
   "outputs": [],
   "source": [
    "prompt1 = ChatPromptTemplate.from_messages([\n",
    "    (\"system\", \"당신은 영화 전문가 입니다. 사용자가 입력한 장르에 맞는 영화 1편을 추천해주세요.\" ),\n",
    "    (\"user\", \"{genre} 장르의 영화 1편을 추천해 주세요.\")\n",
    "])"
   ]
  },
  {
   "cell_type": "code",
   "execution_count": 8,
   "id": "dad79820",
   "metadata": {},
   "outputs": [],
   "source": [
    "prompt2 = ChatPromptTemplate.from_messages([\n",
    "    (\"system\", \"당신은 영화 전문가 입니다. 영화의 정보를 요약해서 알려주세요.\"),\n",
    "    (\"user\", \"{movie} 영화의 정보(감독, 줄거리, 등장인물)을 요약해서 알려주세요.\" )\n",
    "])"
   ]
  },
  {
   "cell_type": "code",
   "execution_count": 9,
   "id": "cd9937a7",
   "metadata": {},
   "outputs": [],
   "source": [
    "llm = ChatOpenAI(\n",
    "    # api_key=OPENAI_API_KEY,\n",
    "    base_url=\"https://api.groq.com/openai/v1\",  # Groq API 엔드포인트\n",
    "    model=\"meta-llama/llama-4-scout-17b-16e-instruct\",\n",
    "    temperature=0.7\n",
    ")"
   ]
  },
  {
   "cell_type": "code",
   "execution_count": 10,
   "id": "1f1f26f4",
   "metadata": {},
   "outputs": [],
   "source": [
    "chain1 = prompt1 | llm | StrOutputParser()\n",
    "# movie = chain1.invoke({\"genre\":\"액션\"})"
   ]
  },
  {
   "cell_type": "code",
   "execution_count": 11,
   "id": "0c9005fc",
   "metadata": {},
   "outputs": [],
   "source": [
    "chain2 = (\n",
    "    {\"movie\": chain1}\n",
    "    | prompt2\n",
    "    | llm\n",
    "    | StrOutputParser()\n",
    ")"
   ]
  },
  {
   "cell_type": "code",
   "execution_count": 12,
   "id": "03fbeef6",
   "metadata": {},
   "outputs": [
    {
     "name": "stdout",
     "output_type": "stream",
     "text": [
      "1단계 결과: **액션 영화 추천: 존 윅 (John Wick)**\n",
      "\n",
      "*   **개봉일:** 2014년 10월 24일\n",
      "*   **감독:** 채드 스태헬스키\n",
      "*   **줄거리:** 전직 킬러 존 윅은 은퇴 후 평화로운 삶을 살고 있지만, 우연히 옛 동료의 개를 죽이고 마피아의 표적이 됩니다. 이에 존 윅은 과거의 실수를 바로잡기 위해 고군분투하며, 그의 뛰어난 액션과 총격 기술을 선보입니다.\n",
      "\n",
      "**내용:** 영화는 고품질의 액션 장면과 세련된 연출로 유명합니다. 특히, 존 윅의 무술 및 총격 장면은 매우 인상적이며, 영화의 긴장감과 몰입도를 높입니다. 또한, 키아누 리브스의 연기와 케렌시아 스펜서의 음악이 영화의 분위기를 더욱 돋보이게 합니다.\n",
      "\n",
      "**평가:** 영화는 비평가와 관객으로부터 높은 평가를 받았습니다. 액션 영화로서의 퀄리티와 연출, 배우의 연기 등이 특히 호평을 받았습니다.\n",
      "\n",
      "**추천 이유:** 액션 영화 팬들에게 최고의 선택입니다. 영화는 강렬한 액션과 빠른 전개로 몰입도를 높이며, 존 윅의 캐릭터와 세계관이 깊이 있게 그려져 있습니다.\n",
      "2단계 결과: ### 영화 정보 요약\n",
      "\n",
      "* **영화 제목**: 존 윅 (John Wick)\n",
      "* **개봉 연도**: 2014년\n",
      "* **감독**: 채드 스타헬스키\n",
      "* **주연**: 키아누 리브스, 마이클 니콜라이, 알피 앨런\n",
      "\n",
      "### 줄거리 요약\n",
      "\n",
      "전직 킬러 존 윅은 은퇴 후 평화로운 삶을 살고 있습니다. 하지만 그의 은퇴를 축하하기 위해 온 옛 동료가 우연히 그의 집에 침입하고, 존 윅의 차를 훔쳐가는 사건이 발생합니다. 이에 존 윅은 옛 동료를 죽이고, 그 동료가 속한 범죄 조직의 보스에게 복수를 다짐하며, 위험한 싸움에 휘말리게 됩니다.\n",
      "\n",
      "### 등장인물\n",
      "\n",
      "* **존 윅**: 전직 킬러로, 은퇴 후 평화로운 삶을 살고 있습니다. 키아누 리브스가 연기합니다.\n",
      "* **마이클 니콜라이**: 존 윅의 옛 동료로, 존 윅의 집에 침입하고 그의 차를 훔쳐갑니다.\n",
      "* **알피 앨런**: 범죄 조직의 보스로, 존 윅의 복수 대상입니다.\n"
     ]
    }
   ],
   "source": [
    "try:\n",
    "    genre = \"액션\"\n",
    "\n",
    "    name = chain1.invoke({\"genre\":genre})\n",
    "    print(f\"1단계 결과: {name}\")\n",
    "    \n",
    "    result = chain2.invoke({\"genre\":genre})\n",
    "    print(f\"2단계 결과: {result}\")\n",
    "except Exception as e:\n",
    "    print(f\"오류 발생: {e}\")"
   ]
  },
  {
   "cell_type": "markdown",
   "id": "8933dadf",
   "metadata": {},
   "source": [
    "### 문제 1-3"
   ]
  },
  {
   "cell_type": "code",
   "execution_count": 13,
   "id": "1daf94ed",
   "metadata": {},
   "outputs": [],
   "source": [
    "from langchain_core.prompts import (\n",
    "    FewShotChatMessagePromptTemplate, \n",
    "    ChatPromptTemplate\n",
    ")\n",
    "\n",
    "from langchain_openai import ChatOpenAI \n",
    "from langchain_core.output_parsers import StrOutputParser"
   ]
  },
  {
   "cell_type": "code",
   "execution_count": 14,
   "id": "8a5ce20b",
   "metadata": {},
   "outputs": [],
   "source": [
    "examples = [\n",
    "    {\n",
    "        \"news\": \"삼성전자가 내년 초에 자체적으로 개발한 인공지능(AI) 가속기를 처음으로 출시할 예정이다. 이는 AI 반도체 시장에서 지배적인 위치를 차지하고 있는 엔비디아의 독점을 도전하고, 세계 최고의 반도체 제조업체로서의 지위를 다시 확립하려는 삼성전자의 노력으로 해석된다.\",\n",
    "        \"keywords\": \"삼성전자, 인공지능, 엔비디아\"\n",
    "    },\n",
    "    {\n",
    "        \"news\": \"세계보건기구(WHO)는 최근 새로운 건강 위기에 대응하기 위해 국제 협력의 중요성을 강조했다. 전염병 대응 역량의 강화와 글로벌 보건 시스템의 개선이 필요하다고 발표했다.\",\n",
    "        \"keywords\": \"세계보건기구, 건강위기, 국제협력\"\n",
    "    },\n",
    "    \n",
    "]"
   ]
  },
  {
   "cell_type": "code",
   "execution_count": 15,
   "id": "f7cd2389",
   "metadata": {},
   "outputs": [],
   "source": [
    "example_prompt = ChatPromptTemplate.from_messages([\n",
    "    (\"human\", \"{news}\"),\n",
    "    (\"ai\", \"키워드: {keywords}\")\n",
    "])"
   ]
  },
  {
   "cell_type": "code",
   "execution_count": 16,
   "id": "73a58dab",
   "metadata": {},
   "outputs": [],
   "source": [
    "few_shot_prompt = FewShotChatMessagePromptTemplate(\n",
    "    example_prompt=example_prompt,\n",
    "    examples=examples\n",
    ")"
   ]
  },
  {
   "cell_type": "code",
   "execution_count": 17,
   "id": "93a254d3",
   "metadata": {},
   "outputs": [],
   "source": [
    "final_prompt = ChatPromptTemplate.from_messages([\n",
    "    (\"system\", \"뉴스 키워드 추출 전문가입니다. 핵심 키워드 3개를 추출하세요.\"),\n",
    "    few_shot_prompt,\n",
    "    (\"human\", \"{input}\")\n",
    "])"
   ]
  },
  {
   "cell_type": "code",
   "execution_count": 18,
   "id": "915a20d5",
   "metadata": {},
   "outputs": [],
   "source": [
    "llm = ChatOpenAI(\n",
    "    # api_key=OPENAI_API_KEY,\n",
    "    base_url=\"https://api.groq.com/openai/v1\",  # Groq API 엔드포인트\n",
    "    model=\"meta-llama/llama-4-scout-17b-16e-instruct\",\n",
    "    temperature=0.7\n",
    ")"
   ]
  },
  {
   "cell_type": "code",
   "execution_count": 19,
   "id": "1ed28e73",
   "metadata": {},
   "outputs": [],
   "source": [
    "chain = final_prompt | llm | StrOutputParser()"
   ]
  },
  {
   "cell_type": "code",
   "execution_count": 20,
   "id": "179762dd",
   "metadata": {},
   "outputs": [
    {
     "name": "stdout",
     "output_type": "stream",
     "text": [
      "키워드: 제미나이, 구글, AI모델\n"
     ]
    }
   ],
   "source": [
    "test_news = \"제미나이 2.0 플래시는 현재 구글 AI 스튜디오(Google AI Studio) 및 버텍스 AI(Vertex AI)에서 제미나이 API를 통해 개발자에게 실험 모델로 제공됩니다. 모든 개발자는 멀티모달 입력 및 텍스트 출력을 사용할 수 있으며, 텍스트 음성 변환(text-to-speech) 및 네이티브 이미지 생성은 일부 파트너들을 대상으로 제공됩니다. 내년 1월에는 더 많은 모델 사이즈와 함께 일반에 공개될 예정입니다.\"\n",
    "\n",
    "result = chain.invoke({\"input\": test_news})\n",
    "\n",
    "print(result)"
   ]
  }
 ],
 "metadata": {
  "kernelspec": {
   "display_name": "langchain-basic-kGdHTiMZ-py3.12",
   "language": "python",
   "name": "python3"
  },
  "language_info": {
   "codemirror_mode": {
    "name": "ipython",
    "version": 3
   },
   "file_extension": ".py",
   "mimetype": "text/x-python",
   "name": "python",
   "nbconvert_exporter": "python",
   "pygments_lexer": "ipython3",
   "version": "3.12.7"
  }
 },
 "nbformat": 4,
 "nbformat_minor": 5
}
