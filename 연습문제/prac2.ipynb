{
 "cells": [
  {
   "cell_type": "markdown",
   "id": "7ef7a577",
   "metadata": {},
   "source": [
    "### 문제 2-1"
   ]
  },
  {
   "cell_type": "code",
   "execution_count": 3,
   "id": "27082fa9",
   "metadata": {},
   "outputs": [
    {
     "name": "stdout",
     "output_type": "stream",
     "text": [
      "gs\n"
     ]
    }
   ],
   "source": [
    "import os\n",
    "from dotenv import load_dotenv\n",
    "\n",
    "load_dotenv()\n",
    "OPENAI_API_KEY = os.getenv(\"OPENAI_API_KEY\")\n",
    "print(OPENAI_API_KEY[:2])"
   ]
  },
  {
   "cell_type": "code",
   "execution_count": 4,
   "id": "249c3c83",
   "metadata": {},
   "outputs": [],
   "source": [
    "from langchain_core.output_parsers import CommaSeparatedListOutputParser\n",
    "from langchain_core.prompts import PromptTemplate\n",
    "from langchain_openai import ChatOpenAI"
   ]
  },
  {
   "cell_type": "code",
   "execution_count": 7,
   "id": "3e7e046a",
   "metadata": {},
   "outputs": [
    {
     "name": "stdout",
     "output_type": "stream",
     "text": [
      "['서울의 한옥마을', '전주 음식촌', '부산 광장시장', '제주 흑돼지 거리', '남도 음식거리']\n"
     ]
    }
   ],
   "source": [
    "output_parser = CommaSeparatedListOutputParser()\n",
    "\n",
    "format_instructions = output_parser.get_format_instructions()\n",
    "\n",
    "prompt = PromptTemplate(\n",
    "    template= \n",
    "    \"\"\"\n",
    "    사용자가 관심있는 분야는 {field}입니다.\n",
    "    이 분야와 관련된 한국의 유명한 장소나 활동 5가지를 콤마로 구분된 리스트로 출력해주세요.\n",
    "    {format_instructions}\n",
    "    \"\"\",\n",
    "    input_variables=[\"field\"],\n",
    "    partial_variables={\"format_instructions\": format_instructions},\n",
    "\n",
    ")\n",
    "\n",
    "model = ChatOpenAI(\n",
    "    base_url=\"https://api.groq.com/openai/v1\",  # Groq API 엔드포인트\n",
    "    model=\"meta-llama/llama-4-scout-17b-16e-instruct\",\n",
    "    temperature=0\n",
    ")\n",
    "\n",
    "chain = prompt | model | output_parser\n",
    "\n",
    "result = chain.invoke({\"field\":\"음식\"})\n",
    "\n",
    "print(result)"
   ]
  },
  {
   "cell_type": "markdown",
   "id": "0d577e4d",
   "metadata": {},
   "source": [
    "### 문제 2-2"
   ]
  },
  {
   "cell_type": "code",
   "execution_count": 8,
   "id": "76043601",
   "metadata": {},
   "outputs": [],
   "source": [
    "from langchain_openai import ChatOpenAI\n",
    "from langchain_core.prompts import ChatPromptTemplate\n",
    "from langchain.output_parsers import EnumOutputParser, OutputFixingParser\n",
    "from langchain.schema import OutputParserException\n",
    "\n",
    "from enum import Enum"
   ]
  },
  {
   "cell_type": "code",
   "execution_count": 19,
   "id": "24ef6c6e",
   "metadata": {},
   "outputs": [
    {
     "name": "stdout",
     "output_type": "stream",
     "text": [
      "1. 리뷰: 이 영화 정말 재미없어요. 시간 낭비였습니다.\n",
      "부정\n",
      "2. 리뷰: 배우들의 연기가 훌륭하고 스토리도 감동적이었어요!\n",
      "긍정\n",
      "3. 리뷰: 그냥 무난한 영화였습니다. 나쁘지도 좋지도 않아요.\n",
      "중립\n"
     ]
    }
   ],
   "source": [
    "class Sentiment(str, Enum):\n",
    "    POSITIVE = \"긍정\"\n",
    "    NEGATIVE = \"부정\"\n",
    "    NEUTRAL = \"중립\"\n",
    "\n",
    "enumParser = EnumOutputParser(enum = Sentiment)\n",
    "format_instructions = enumParser.get_format_instructions()\n",
    "\n",
    "template = \"\"\"\n",
    "당신은 영화 리뷰 감정 분석 전문가 입니다. \n",
    "다음 영화의 리뷰를 분석하고, 반드시 아래 세 가지 중 하나의 단어로만 답변하세요.\n",
    "\n",
    "영화 리뷰: \"{review}\"\n",
    "\n",
    "{format_instructions}\n",
    "\n",
    "\"\"\"\n",
    "\n",
    "prompt = ChatPromptTemplate.from_template(template)\n",
    "prompt = prompt.partial(format_instructions = format_instructions)\n",
    "\n",
    "model = ChatOpenAI(\n",
    "    base_url=\"https://api.groq.com/openai/v1\",  # Groq API 엔드포인트\n",
    "    model=\"meta-llama/llama-4-scout-17b-16e-instruct\",\n",
    "    temperature=0  # 일관성을 위해 0으로 설정\n",
    ")\n",
    "\n",
    "fixing_parser = OutputFixingParser.from_llm(parser=enumParser, llm=model)\n",
    "\n",
    "def run_sentiment_analysis(review_text):\n",
    "    try:\n",
    "        chain = prompt | model | fixing_parser\n",
    "        result = chain.invoke({\"review\": review_text})\n",
    "        return result, None\n",
    "    except Exception as e:\n",
    "        return None, f\"오류: {str(e)}\"\n",
    "\n",
    "reviews = [\n",
    "    \"이 영화 정말 재미없어요. 시간 낭비였습니다.\",\n",
    "    \"배우들의 연기가 훌륭하고 스토리도 감동적이었어요!\",\n",
    "    \"그냥 무난한 영화였습니다. 나쁘지도 좋지도 않아요.\"\n",
    "]\n",
    "\n",
    "for i, review in enumerate(reviews, 1):\n",
    "    print(f\"{i}. 리뷰: {review}\")\n",
    "    result, error = run_sentiment_analysis(review)\n",
    "    print(result.value)\n"
   ]
  },
  {
   "cell_type": "markdown",
   "id": "3b13d117",
   "metadata": {},
   "source": [
    "### 문제 2-3"
   ]
  },
  {
   "cell_type": "code",
   "execution_count": null,
   "id": "dde37d58",
   "metadata": {},
   "outputs": [],
   "source": [
    "from langchain_openai import ChatOpenAI\n",
    "from langchain_core.prompts import ChatPromptTemplate\n",
    "from langchain.output_parsers import PydanticOutputParser\n",
    "\n",
    "from pydantic import BaseModel, Field\n",
    "from typing import List\n",
    "\n",
    "class Student(BaseModel):\n",
    "    name: str = Field(description=\"이름\")\n",
    "    age: int = Field(description=\"나이\")\n",
    "    major: str = Field(description=\"전공\")\n",
    "    hobbies: List[str] = Field(description=\"취미\")\n",
    "    goal: str = Field(description=\"목표\")\n",
    "\n",
    "parser = PydanticOutputParser(pydantic_object=Student)\n",
    "\n",
    "template = \"\"\"\n",
    "학생의 자기소개를 듣고 학생의 정보를  정리해주세요\n",
    "\n",
    "자기소개: {introduction}\n",
    "\n",
    "{format_instructions}\n",
    "\n",
    "\"\"\"\n",
    "\n",
    "prompt = ChatPromptTemplate.from_template(template)\n",
    "prompt = prompt.partial(\n",
    "    format_instructions=parser.get_format_instructions()\n",
    ")\n",
    "\n",
    "model = ChatOpenAI(\n",
    "    #api_key=OPENAI_API_KEY,\n",
    "    base_url=\"https://api.groq.com/openai/v1\",  # Groq API 엔드포인트\n",
    "    model=\"meta-llama/llama-4-scout-17b-16e-instruct\",  # Spring AI와 동일한 모델\n",
    "    temperature=0.7\n",
    ")\n",
    "\n",
    "chain = prompt | model | parser\n",
    "\n",
    "def "
   ]
  }
 ],
 "metadata": {
  "kernelspec": {
   "display_name": "langchain-basic-kGdHTiMZ-py3.12",
   "language": "python",
   "name": "python3"
  },
  "language_info": {
   "codemirror_mode": {
    "name": "ipython",
    "version": 3
   },
   "file_extension": ".py",
   "mimetype": "text/x-python",
   "name": "python",
   "nbconvert_exporter": "python",
   "pygments_lexer": "ipython3",
   "version": "3.12.7"
  }
 },
 "nbformat": 4,
 "nbformat_minor": 5
}
